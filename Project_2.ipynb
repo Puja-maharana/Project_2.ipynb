{
 "cells": [
  {
   "cell_type": "code",
   "execution_count": 46,
   "id": "c7e723ce-94cf-48e2-9df1-981e3e0fe773",
   "metadata": {},
   "outputs": [],
   "source": [
    "#Q1. How do you comment code in Python? What are the different types of comments?"
   ]
  },
  {
   "cell_type": "code",
   "execution_count": 47,
   "id": "8eab085c-aa30-44c2-9d00-28a51b1a8c02",
   "metadata": {},
   "outputs": [
    {
     "ename": "SyntaxError",
     "evalue": "invalid syntax (777386847.py, line 1)",
     "output_type": "error",
     "traceback": [
      "\u001b[0;36m  Cell \u001b[0;32mIn[47], line 1\u001b[0;36m\u001b[0m\n\u001b[0;31m    There are three types of comments: single-line, multi-line, and docstring comments.\u001b[0m\n\u001b[0m          ^\u001b[0m\n\u001b[0;31mSyntaxError\u001b[0m\u001b[0;31m:\u001b[0m invalid syntax\n"
     ]
    }
   ],
   "source": [
    "There are three types of comments: single-line, multi-line, and docstring comments. \n"
   ]
  },
  {
   "cell_type": "code",
   "execution_count": 48,
   "id": "e5719bf5-d81c-46c9-af73-edb0625f9c87",
   "metadata": {},
   "outputs": [
    {
     "name": "stdout",
     "output_type": "stream",
     "text": [
      "multiline comment\n"
     ]
    }
   ],
   "source": [
    "# single line \n",
    "\"\"\" This is a multiline comment\"\"\"\n",
    "print(\"multiline comment\")"
   ]
  },
  {
   "cell_type": "code",
   "execution_count": 49,
   "id": "5c2efafe-8a4d-4222-a048-56873dd8a105",
   "metadata": {},
   "outputs": [
    {
     "name": "stdout",
     "output_type": "stream",
     "text": [
      "implementation\n",
      "this is a function used for showing python socstring\n"
     ]
    }
   ],
   "source": [
    "def intro():\n",
    "    '''this is a function used for showing python socstring'''\n",
    "print(\"implementation\")\n",
    "print(intro.__doc__)"
   ]
  },
  {
   "cell_type": "code",
   "execution_count": 50,
   "id": "a2fe4951-a9e2-4007-9882-bc30d4395633",
   "metadata": {},
   "outputs": [],
   "source": [
    "#Q2. What are variables in Python? How do you declare and assign values to variables?"
   ]
  },
  {
   "cell_type": "code",
   "execution_count": 51,
   "id": "63ba29e1-9cd7-45bc-bcb3-a91204959b37",
   "metadata": {},
   "outputs": [],
   "source": [
    "#A variable is a valua that can change,depending on conditions or on information passed to program.\n",
    "#In python we dont need to declear a cariable with specific data type once we assign a value to the variable python automatically declared data type of the value based on the input value"
   ]
  },
  {
   "cell_type": "code",
   "execution_count": 52,
   "id": "330e8e50-1d2d-4f0c-bb77-4c7bfeb151df",
   "metadata": {},
   "outputs": [
    {
     "name": "stdout",
     "output_type": "stream",
     "text": [
      "10 <class 'int'>\n",
      "22 <class 'int'>\n",
      "1.12 <class 'float'>\n",
      "apple <class 'str'>\n",
      "(3+4j) <class 'complex'>\n",
      "False <class 'bool'>\n",
      "[1, 2, 5, 4] <class 'list'>\n",
      "False <class 'bool'>\n",
      "[1, 2, 5, 4] <class 'list'>\n",
      "(1, 5, 9, 'moon') <class 'tuple'>\n",
      "{1: 'as', 2: 'f'} <class 'dict'>\n"
     ]
    }
   ],
   "source": [
    "a = 10\n",
    "b = 22\n",
    "c = 1.12\n",
    "d = \"apple\"\n",
    "e = 3+4j\n",
    "f = False\n",
    "g = [1,2,5,4]\n",
    "h = (1,5,9,\"moon\")\n",
    "i = {1:'as',2:'f'}\n",
    "print(a,type(a))\n",
    "print(b,type(b))\n",
    "print(c,type(c))\n",
    "print(d,type(d))\n",
    "print(e,type(e))\n",
    "print(f,type(f))\n",
    "print(g,type(g))\n",
    "print(f,type(f))\n",
    "print(g,type(g))\n",
    "print(h,type(h))\n",
    "print(i,type(i))"
   ]
  },
  {
   "cell_type": "code",
   "execution_count": 53,
   "id": "d458a0d9-10bb-4ff9-8896-7b3aae12ff8e",
   "metadata": {},
   "outputs": [],
   "source": [
    "# Q3. How do you convert one data type to another in Python?"
   ]
  },
  {
   "cell_type": "code",
   "execution_count": 54,
   "id": "a1aea39f-ace6-4576-bc7f-7b997dc958c1",
   "metadata": {},
   "outputs": [],
   "source": [
    "# in python we can convert from one datatype to another datatype through the using of  functions like Number(), String(), and Boolean()."
   ]
  },
  {
   "cell_type": "code",
   "execution_count": 55,
   "id": "0a66dc9e-f875-4ebc-819a-386ca4a73c87",
   "metadata": {},
   "outputs": [
    {
     "name": "stdout",
     "output_type": "stream",
     "text": [
      "data type of 10 is <class 'int'> :\n",
      "data type of 1.5 is <class 'float'> :\n",
      "sum is  11.5\n",
      "data type of 11.5 is <class 'float'> : \n"
     ]
    }
   ],
   "source": [
    "# implicint conversion\n",
    "integer_no = 10\n",
    "float_no = 1.5\n",
    "\n",
    "total = integer_no  + floating_no \n",
    "\n",
    "print(f\"data type of {integer_no} is {type(integer_no)} :\")\n",
    "print(f\"data type of {float_no} is {type(float_no)} :\")\n",
    "print(\"sum is \", total)\n",
    "print(f\"data type of {total} is {type(total)} : \")"
   ]
  },
  {
   "cell_type": "code",
   "execution_count": 56,
   "id": "e3e0318c-dda5-4c80-a5f9-f5084915c38c",
   "metadata": {},
   "outputs": [
    {
     "name": "stdout",
     "output_type": "stream",
     "text": [
      "Data type of num_string before Type Casting: <class 'str'>\n",
      "Data type of num_string after Type Casting: <class 'int'>\n",
      "Sum: 18\n",
      "Data type of num_sum: <class 'int'>\n"
     ]
    }
   ],
   "source": [
    "#Explicint Conversion\n",
    "num_string = '10'\n",
    "num_integer = 8\n",
    "\n",
    "print(\"Data type of num_string before Type Casting:\",type(num_string))\n",
    "\n",
    "# explicit type conversion\n",
    "num_string = int(num_string)\n",
    "\n",
    "print(\"Data type of num_string after Type Casting:\",type(num_string))\n",
    "\n",
    "num_sum = num_integer + num_string\n",
    "\n",
    "print(\"Sum:\",num_sum)\n",
    "print(\"Data type of num_sum:\",type(num_sum))"
   ]
  },
  {
   "cell_type": "code",
   "execution_count": 57,
   "id": "b7158476-9fe2-460c-b95e-ea6349507583",
   "metadata": {},
   "outputs": [],
   "source": [
    "#Q4. How do you write and execute a Python script from the command line?"
   ]
  },
  {
   "cell_type": "code",
   "execution_count": 58,
   "id": "84af8d07-edd0-4ac7-8b1e-dba7849f89d3",
   "metadata": {},
   "outputs": [
    {
     "ename": "SyntaxError",
     "evalue": "invalid syntax (3012601889.py, line 1)",
     "output_type": "error",
     "traceback": [
      "\u001b[0;36m  Cell \u001b[0;32mIn[58], line 1\u001b[0;36m\u001b[0m\n\u001b[0;31m    Steps to write and execute script from the command line are:\u001b[0m\n\u001b[0m          ^\u001b[0m\n\u001b[0;31mSyntaxError\u001b[0m\u001b[0;31m:\u001b[0m invalid syntax\n"
     ]
    }
   ],
   "source": [
    "Steps to write and execute script from the command line are:\n",
    "\n",
    "Step 1-> First open your python IDE and create a file of any name (lets say you created with name hello)\n",
    "\n",
    "Step 2-> Write the piece of code in the newly created file and save it.\n",
    "\n",
    "Step 3-> Open properties of the created file and copy the location of the same.\n",
    "\n",
    "Step 4-> Open command promp and paste the location of the file and press enter(make sure to command 'cd' to change directory)\n",
    "\n",
    "Step 5-> Now, type: python hello.py and press enter.\n",
    "\n",
    "Step 6-> Your file has been written and executed..."
   ]
  },
  {
   "cell_type": "code",
   "execution_count": 59,
   "id": "9a3444e7-6b7d-4228-bf07-aa98ea2c62f0",
   "metadata": {},
   "outputs": [],
   "source": [
    "#Q5. Given a list my_list = [1, 2, 3, 4, 5], write the code to slice the list and obtain the sub-list [2, 3]."
   ]
  },
  {
   "cell_type": "code",
   "execution_count": 60,
   "id": "61111180-75fc-4328-98dc-67ae096ec07b",
   "metadata": {},
   "outputs": [
    {
     "name": "stdout",
     "output_type": "stream",
     "text": [
      "List Before Slicing :  [1, 2, 3, 4, 5]\n",
      "List After Slicing :  [2, 3]\n"
     ]
    }
   ],
   "source": [
    "my_list = [1,2,3,4,5]\n",
    "sub_list = my_list[1:3]\n",
    "\n",
    "print(\"List Before Slicing : \",my_list)\n",
    "print(\"List After Slicing : \",sub_list)"
   ]
  },
  {
   "cell_type": "code",
   "execution_count": 61,
   "id": "64def01a-5f1f-42e0-8d90-751b1f279470",
   "metadata": {},
   "outputs": [],
   "source": [
    "#Q6. What is a complex number in mathematics, and how is it represented in Python?"
   ]
  },
  {
   "cell_type": "code",
   "execution_count": 62,
   "id": "9c3076af-95fc-4850-927a-744f53c93c4f",
   "metadata": {},
   "outputs": [],
   "source": [
    "#Complex Numbers in Maths. Complex numbers are the numbers that are expressed in the form of a+ib where, a,b are real numbers and 'i' is an imaginary number called “iota”. The value of i = (√-1)."
   ]
  },
  {
   "cell_type": "code",
   "execution_count": 63,
   "id": "4d655b2f-e4fe-4263-9bf2-1e4ca58892d8",
   "metadata": {},
   "outputs": [
    {
     "name": "stdout",
     "output_type": "stream",
     "text": [
      "The type of variable (9+6j) :  <class 'complex'>\n",
      "The real part of complex number is :  9.0\n",
      "The imaginary part of complex number is :  6.0\n"
     ]
    }
   ],
   "source": [
    "#complex number in pyton\n",
    "a = 9+6j\n",
    "\n",
    "print (f\"The type of variable {a} : \",type(a))\n",
    "print (\"The real part of complex number is : \",a.real)\n",
    "print (\"The imaginary part of complex number is : \",a.imag)"
   ]
  },
  {
   "cell_type": "code",
   "execution_count": 64,
   "id": "1dd244a1-0dfa-4c3d-9d23-b0bf8ab91d0d",
   "metadata": {},
   "outputs": [],
   "source": [
    "#Q7. What is the correct way to declare a variable named age and assign the value 25 to it?"
   ]
  },
  {
   "cell_type": "code",
   "execution_count": 65,
   "id": "71d7fd8d-9c46-41c6-8eaf-1cc96d9fb688",
   "metadata": {},
   "outputs": [
    {
     "name": "stdout",
     "output_type": "stream",
     "text": [
      "30\n"
     ]
    }
   ],
   "source": [
    "age = 30\n",
    "print(age)"
   ]
  },
  {
   "cell_type": "code",
   "execution_count": 66,
   "id": "de455ff3-3e01-46d3-810b-0a815e43ab72",
   "metadata": {},
   "outputs": [],
   "source": [
    "#Q8. Declare a variable named price and assign the value 9.99 to it. What data type does this variable belong to?"
   ]
  },
  {
   "cell_type": "code",
   "execution_count": 67,
   "id": "7c428491-afae-4365-84d8-28ce4f72e38f",
   "metadata": {},
   "outputs": [
    {
     "name": "stdout",
     "output_type": "stream",
     "text": [
      "99.9 <class 'float'>\n"
     ]
    }
   ],
   "source": [
    "price = 99.9\n",
    "print(price,type(price))"
   ]
  },
  {
   "cell_type": "code",
   "execution_count": 69,
   "id": "c0e48b60-3195-49ba-920e-544207bc9ad0",
   "metadata": {},
   "outputs": [],
   "source": [
    "#Q9. Create a variable named name and assign your full name to it as a string. How would you print the value of this variable?"
   ]
  },
  {
   "cell_type": "code",
   "execution_count": 70,
   "id": "eb4d3fc2-6b2f-401f-8ced-c4d17fe13edc",
   "metadata": {},
   "outputs": [
    {
     "name": "stdout",
     "output_type": "stream",
     "text": [
      "Puja Maharana\n"
     ]
    },
    {
     "data": {
      "text/plain": [
       "'Puja Maharana'"
      ]
     },
     "execution_count": 70,
     "metadata": {},
     "output_type": "execute_result"
    }
   ],
   "source": [
    "name = \"Puja Maharana\"\n",
    "print(name) #using print function\n",
    "name #directly by calling variable name"
   ]
  },
  {
   "cell_type": "code",
   "execution_count": 73,
   "id": "2539a49e-e034-43e6-a234-714bcb43ba7b",
   "metadata": {},
   "outputs": [],
   "source": [
    " #Given the string \"Hello, World!\", extract the substring \"World\"."
   ]
  },
  {
   "cell_type": "code",
   "execution_count": 74,
   "id": "37943724-e78a-42ee-a1f6-a02beb91dc27",
   "metadata": {},
   "outputs": [
    {
     "name": "stdout",
     "output_type": "stream",
     "text": [
      "World\n",
      "World\n",
      "World\n"
     ]
    }
   ],
   "source": [
    "string = \"Hello, World!\"\n",
    "print(string[7:12])\n",
    "print(string[7:-1])\n",
    "print(string[-6:-1])"
   ]
  },
  {
   "cell_type": "code",
   "execution_count": 75,
   "id": "d737390f-ee91-41cb-8d6b-ed388b9be44e",
   "metadata": {},
   "outputs": [],
   "source": [
    "#Q11. Create a variable named \"is_student\" and assign it a boolean value indicating whether you are currently a student or not."
   ]
  },
  {
   "cell_type": "code",
   "execution_count": 76,
   "id": "7278bedd-9aac-431a-a4ad-77759380bc36",
   "metadata": {},
   "outputs": [
    {
     "data": {
      "text/plain": [
       "True"
      ]
     },
     "execution_count": 76,
     "metadata": {},
     "output_type": "execute_result"
    }
   ],
   "source": [
    "is_student = True\n",
    "is_student"
   ]
  },
  {
   "cell_type": "code",
   "execution_count": null,
   "id": "ea91f6af-90e5-49ed-a4b7-b7c0ec40eca9",
   "metadata": {},
   "outputs": [],
   "source": []
  }
 ],
 "metadata": {
  "kernelspec": {
   "display_name": "Python 3 (ipykernel)",
   "language": "python",
   "name": "python3"
  },
  "language_info": {
   "codemirror_mode": {
    "name": "ipython",
    "version": 3
   },
   "file_extension": ".py",
   "mimetype": "text/x-python",
   "name": "python",
   "nbconvert_exporter": "python",
   "pygments_lexer": "ipython3",
   "version": "3.10.8"
  }
 },
 "nbformat": 4,
 "nbformat_minor": 5
}
